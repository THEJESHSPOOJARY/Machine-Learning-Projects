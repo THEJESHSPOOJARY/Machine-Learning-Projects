{
 "cells": [
  {
   "cell_type": "code",
   "execution_count": 1,
   "id": "9ae28bda",
   "metadata": {},
   "outputs": [
    {
     "data": {
      "text/html": [
       "<div>\n",
       "<style scoped>\n",
       "    .dataframe tbody tr th:only-of-type {\n",
       "        vertical-align: middle;\n",
       "    }\n",
       "\n",
       "    .dataframe tbody tr th {\n",
       "        vertical-align: top;\n",
       "    }\n",
       "\n",
       "    .dataframe thead th {\n",
       "        text-align: right;\n",
       "    }\n",
       "</style>\n",
       "<table border=\"1\" class=\"dataframe\">\n",
       "  <thead>\n",
       "    <tr style=\"text-align: right;\">\n",
       "      <th></th>\n",
       "      <th>TV</th>\n",
       "      <th>Radio</th>\n",
       "      <th>Newspaper</th>\n",
       "      <th>Sales</th>\n",
       "    </tr>\n",
       "  </thead>\n",
       "  <tbody>\n",
       "    <tr>\n",
       "      <th>0</th>\n",
       "      <td>230.1</td>\n",
       "      <td>37.8</td>\n",
       "      <td>69.2</td>\n",
       "      <td>22.1</td>\n",
       "    </tr>\n",
       "    <tr>\n",
       "      <th>1</th>\n",
       "      <td>44.5</td>\n",
       "      <td>39.3</td>\n",
       "      <td>45.1</td>\n",
       "      <td>10.4</td>\n",
       "    </tr>\n",
       "    <tr>\n",
       "      <th>2</th>\n",
       "      <td>17.2</td>\n",
       "      <td>45.9</td>\n",
       "      <td>69.3</td>\n",
       "      <td>12.0</td>\n",
       "    </tr>\n",
       "    <tr>\n",
       "      <th>3</th>\n",
       "      <td>151.5</td>\n",
       "      <td>41.3</td>\n",
       "      <td>58.5</td>\n",
       "      <td>16.5</td>\n",
       "    </tr>\n",
       "    <tr>\n",
       "      <th>4</th>\n",
       "      <td>180.8</td>\n",
       "      <td>10.8</td>\n",
       "      <td>58.4</td>\n",
       "      <td>17.9</td>\n",
       "    </tr>\n",
       "  </tbody>\n",
       "</table>\n",
       "</div>"
      ],
      "text/plain": [
       "      TV  Radio  Newspaper  Sales\n",
       "0  230.1   37.8       69.2   22.1\n",
       "1   44.5   39.3       45.1   10.4\n",
       "2   17.2   45.9       69.3   12.0\n",
       "3  151.5   41.3       58.5   16.5\n",
       "4  180.8   10.8       58.4   17.9"
      ]
     },
     "execution_count": 1,
     "metadata": {},
     "output_type": "execute_result"
    }
   ],
   "source": [
    "import pandas as pd\n",
    "import numpy as np\n",
    "import warnings\n",
    "warnings.filterwarnings('ignore')\n",
    "\n",
    "sales_df=pd.read_csv('advertising.csv')\n",
    "sales_df.head()"
   ]
  },
  {
   "cell_type": "markdown",
   "id": "a96cbe42",
   "metadata": {},
   "source": [
    "# Set X and Y Variables"
   ]
  },
  {
   "cell_type": "code",
   "execution_count": 2,
   "id": "b74c46fe",
   "metadata": {},
   "outputs": [],
   "source": [
    "X=sales_df[['TV','Radio','Newspaper']]\n",
    "Y=sales_df['Sales']"
   ]
  },
  {
   "cell_type": "markdown",
   "id": "15db247e",
   "metadata": {},
   "source": [
    "# Standardize X and Y "
   ]
  },
  {
   "cell_type": "code",
   "execution_count": 3,
   "id": "658210d3",
   "metadata": {},
   "outputs": [],
   "source": [
    "#converting all variables into one scale by subtracting means from each value of the variable and dividing by the corresponding SD of the variable\n",
    "\n",
    "Y=np.array((Y-Y.mean())/Y.std())\n",
    "X=X.apply(lambda rec:(rec-rec.mean())/rec.std(),axis=0)"
   ]
  },
  {
   "cell_type": "markdown",
   "id": "78f38c88",
   "metadata": {},
   "source": [
    "# Implementing the Gradient descent Algorithm"
   ]
  },
  {
   "cell_type": "code",
   "execution_count": 4,
   "id": "d347b197",
   "metadata": {},
   "outputs": [],
   "source": [
    "#Method 1-Random Initialization of the Bias and Weights \n",
    "\n",
    "import random\n",
    "#dim- no of weights to be initialized besides the bias\n",
    "\n",
    "def initialize(dim):\n",
    "    np.random.seed(seed=42)\n",
    "    random.seed(42)\n",
    "    #Initialize the bias\n",
    "    b=random.random()\n",
    "    #Initialize the weights\n",
    "    w=np.random.rand(dim)\n",
    "    \n",
    "    return b,w\n",
    "    \n",
    "    "
   ]
  },
  {
   "cell_type": "code",
   "execution_count": 5,
   "id": "e7cd615c",
   "metadata": {},
   "outputs": [
    {
     "name": "stdout",
     "output_type": "stream",
     "text": [
      "Bias 0.6394267984578837 weights [0.37454012 0.95071431 0.73199394]\n"
     ]
    }
   ],
   "source": [
    "b,w=initialize(3)\n",
    "print('Bias',b,'weights',w)"
   ]
  },
  {
   "cell_type": "code",
   "execution_count": 6,
   "id": "e96a9ce6",
   "metadata": {},
   "outputs": [],
   "source": [
    "#Method 2-Predict Y values from the Bias and weights\n",
    "\n",
    "def predict_Y(b,w,X):\n",
    "    return b+np.matmul(X,w)"
   ]
  },
  {
   "cell_type": "code",
   "execution_count": 7,
   "id": "b7329f52",
   "metadata": {},
   "outputs": [
    {
     "data": {
      "text/plain": [
       "0    3.231496\n",
       "1    1.707849\n",
       "2    2.824761\n",
       "3    2.753090\n",
       "4    0.924486\n",
       "5    3.171365\n",
       "6    0.622344\n",
       "7   -0.349354\n",
       "8   -2.313095\n",
       "9   -0.768030\n",
       "dtype: float64"
      ]
     },
     "execution_count": 7,
     "metadata": {},
     "output_type": "execute_result"
    }
   ],
   "source": [
    "b,w=initialize(3)\n",
    "Y_hat=predict_Y(b,w,X)\n",
    "Y_hat[0:10]"
   ]
  },
  {
   "cell_type": "code",
   "execution_count": 8,
   "id": "0a9e75bd",
   "metadata": {},
   "outputs": [],
   "source": [
    "#Method 3-Calculate the Cost Function-MSE\n",
    "\n",
    "import math\n",
    "\n",
    "def get_cost(Y,Y_hat):\n",
    "    Y_resid=Y-Y_hat\n",
    "    return np.sum(np.matmul(Y_resid.T,Y_resid))/len(Y_resid)"
   ]
  },
  {
   "cell_type": "code",
   "execution_count": 9,
   "id": "ff97fa50",
   "metadata": {},
   "outputs": [
    {
     "data": {
      "text/plain": [
       "1.9727813290622094"
      ]
     },
     "execution_count": 9,
     "metadata": {},
     "output_type": "execute_result"
    }
   ],
   "source": [
    "b,w=initialize(3)\n",
    "Y_hat=predict_Y(b,w,X)\n",
    "get_cost(Y,Y_hat)\n"
   ]
  },
  {
   "cell_type": "code",
   "execution_count": 10,
   "id": "49f1bc90",
   "metadata": {},
   "outputs": [],
   "source": [
    "#Method 4-Update the Bias and Weights\n",
    "def update_beta(x,y,y_hat,b_0,w_0,learning_rate):\n",
    "    db=(np.sum(y_hat-y)*2)/len(y)\n",
    "    dw=(np.dot((y_hat-y),x)*2)/len(y)\n",
    "    b_1=b_0-learning_rate*db\n",
    "    w_1=w_0-learning_rate*dw\n",
    "    return b_1,w_1\n"
   ]
  },
  {
   "cell_type": "code",
   "execution_count": 11,
   "id": "1d094b66",
   "metadata": {},
   "outputs": [
    {
     "name": "stdout",
     "output_type": "stream",
     "text": [
      "After Initialization -Bias: 0.6394267984578837 Weights: [0.37454012 0.95071431 0.73199394]\n",
      "After first update-Bias: 0.6266382624887261 Weights: [0.3831587  0.93318613 0.71344909]\n"
     ]
    }
   ],
   "source": [
    "b,w=initialize(3)\n",
    "print(\"After Initialization -Bias:\",b,\"Weights:\",w)\n",
    "Y_hat=predict_Y(b,w,X)\n",
    "b,w=update_beta(X,Y,Y_hat,b,w,0.01)\n",
    "print(\"After first update-Bias:\",b,\"Weights:\",w)"
   ]
  },
  {
   "cell_type": "markdown",
   "id": "19c5bdfa",
   "metadata": {},
   "source": [
    "# Finding the Optimal Bias and Weights"
   ]
  },
  {
   "cell_type": "code",
   "execution_count": 12,
   "id": "05fc988b",
   "metadata": {},
   "outputs": [],
   "source": [
    "def run_gradient_descent(X,Y,alpha=0.01,num_iterations=100):\n",
    "    \n",
    "    #initialize bias and wights\n",
    "    \n",
    "    b,w=initialize(X.shape[1])\n",
    "    iter_num=0\n",
    "    \n",
    "    #gd_iterations_df keeps track of the cost every 10 iterations\n",
    "    gd_iterations_df=pd.DataFrame(columns=['iteration','cost'])\n",
    "    result_idx=0\n",
    "    \n",
    "    #run the iterations in loop\n",
    "    \n",
    "    for each_iter in range(num_iterations):\n",
    "        #Calculate predicted value of y\n",
    "        Y_hat=predict_Y(b,w,X)\n",
    "        #Calculate the cost\n",
    "        this_cost=get_cost(Y,Y_hat)\n",
    "        \n",
    "        #save the previous bias and weights\n",
    "        prev_b=b\n",
    "        prev_w=w\n",
    "        \n",
    "        #update and calculate the new values of bias and weights\n",
    "        \n",
    "        b,w=update_beta(X,Y,Y_hat,prev_b,prev_w,alpha)\n",
    "\n",
    "        \n",
    "        #for every 10 iterarions , store the cost i.e. mse\n",
    "        \n",
    "        if (iter_num %10==0):\n",
    "            gd_iterations_df.loc[result_idx]=[iter_num,this_cost]\n",
    "            result_idx=result_idx+1\n",
    "            \n",
    "        iter_num+=1\n",
    "        \n",
    "    print(\"Final estimate of b and w:\",b,w)\n",
    "    #return the final bias, weights and the cost at the end\n",
    "    \n",
    "    return gd_iterations_df,b,w\n",
    "        "
   ]
  },
  {
   "cell_type": "code",
   "execution_count": 13,
   "id": "cd8bda6d",
   "metadata": {},
   "outputs": [
    {
     "name": "stdout",
     "output_type": "stream",
     "text": [
      "Final estimate of b and w: 0.42844895817391465 [0.5227605  0.67911337 0.44240046]\n"
     ]
    }
   ],
   "source": [
    "gd_iterations_df, b, w=run_gradient_descent(X,Y,alpha=0.001,num_iterations=200)"
   ]
  },
  {
   "cell_type": "code",
   "execution_count": 14,
   "id": "42131f88",
   "metadata": {},
   "outputs": [
    {
     "data": {
      "text/html": [
       "<div>\n",
       "<style scoped>\n",
       "    .dataframe tbody tr th:only-of-type {\n",
       "        vertical-align: middle;\n",
       "    }\n",
       "\n",
       "    .dataframe tbody tr th {\n",
       "        vertical-align: top;\n",
       "    }\n",
       "\n",
       "    .dataframe thead th {\n",
       "        text-align: right;\n",
       "    }\n",
       "</style>\n",
       "<table border=\"1\" class=\"dataframe\">\n",
       "  <thead>\n",
       "    <tr style=\"text-align: right;\">\n",
       "      <th></th>\n",
       "      <th>iteration</th>\n",
       "      <th>cost</th>\n",
       "    </tr>\n",
       "  </thead>\n",
       "  <tbody>\n",
       "    <tr>\n",
       "      <th>0</th>\n",
       "      <td>0.0</td>\n",
       "      <td>1.972781</td>\n",
       "    </tr>\n",
       "    <tr>\n",
       "      <th>1</th>\n",
       "      <td>10.0</td>\n",
       "      <td>1.885905</td>\n",
       "    </tr>\n",
       "    <tr>\n",
       "      <th>2</th>\n",
       "      <td>20.0</td>\n",
       "      <td>1.803150</td>\n",
       "    </tr>\n",
       "    <tr>\n",
       "      <th>3</th>\n",
       "      <td>30.0</td>\n",
       "      <td>1.724317</td>\n",
       "    </tr>\n",
       "    <tr>\n",
       "      <th>4</th>\n",
       "      <td>40.0</td>\n",
       "      <td>1.649215</td>\n",
       "    </tr>\n",
       "    <tr>\n",
       "      <th>5</th>\n",
       "      <td>50.0</td>\n",
       "      <td>1.577663</td>\n",
       "    </tr>\n",
       "    <tr>\n",
       "      <th>6</th>\n",
       "      <td>60.0</td>\n",
       "      <td>1.509491</td>\n",
       "    </tr>\n",
       "    <tr>\n",
       "      <th>7</th>\n",
       "      <td>70.0</td>\n",
       "      <td>1.444534</td>\n",
       "    </tr>\n",
       "    <tr>\n",
       "      <th>8</th>\n",
       "      <td>80.0</td>\n",
       "      <td>1.382639</td>\n",
       "    </tr>\n",
       "    <tr>\n",
       "      <th>9</th>\n",
       "      <td>90.0</td>\n",
       "      <td>1.323656</td>\n",
       "    </tr>\n",
       "  </tbody>\n",
       "</table>\n",
       "</div>"
      ],
      "text/plain": [
       "   iteration      cost\n",
       "0        0.0  1.972781\n",
       "1       10.0  1.885905\n",
       "2       20.0  1.803150\n",
       "3       30.0  1.724317\n",
       "4       40.0  1.649215\n",
       "5       50.0  1.577663\n",
       "6       60.0  1.509491\n",
       "7       70.0  1.444534\n",
       "8       80.0  1.382639\n",
       "9       90.0  1.323656"
      ]
     },
     "execution_count": 14,
     "metadata": {},
     "output_type": "execute_result"
    }
   ],
   "source": [
    "gd_iterations_df[0:10]"
   ]
  },
  {
   "cell_type": "markdown",
   "id": "43f9284a",
   "metadata": {},
   "source": [
    "# Plotting the cost function against the iterations "
   ]
  },
  {
   "cell_type": "code",
   "execution_count": 15,
   "id": "229c0e43",
   "metadata": {},
   "outputs": [],
   "source": [
    "import matplotlib.pyplot as plt\n",
    "import seaborn as sn\n",
    "%matplotlib inline"
   ]
  },
  {
   "cell_type": "code",
   "execution_count": 16,
   "id": "d681923b",
   "metadata": {},
   "outputs": [
    {
     "data": {
      "text/plain": [
       "Text(0.5, 0, 'Cost or MSE')"
      ]
     },
     "execution_count": 16,
     "metadata": {},
     "output_type": "execute_result"
    },
    {
     "data": {
      "image/png": "[encoded data removed]",
      "text/plain": [
       "<Figure size 432x288 with 1 Axes>"
      ]
     },
     "metadata": {
      "needs_background": "light"
     },
     "output_type": "display_data"
    }
   ],
   "source": [
    "plt.plot(gd_iterations_df['iteration'],gd_iterations_df['cost'])\n",
    "plt.xlabel(\"Number of iterations\")\n",
    "plt.xlabel(\"Cost or MSE\")"
   ]
  },
  {
   "cell_type": "code",
   "execution_count": 17,
   "id": "8887fc27",
   "metadata": {},
   "outputs": [
    {
     "name": "stdout",
     "output_type": "stream",
     "text": [
      "Final estimates of b and w: 0.42844895817391465 [0.5227605  0.67911337 0.44240046]\n"
     ]
    }
   ],
   "source": [
    "print(\"Final estimates of b and w:\",b,w)"
   ]
  },
  {
   "cell_type": "code",
   "execution_count": 18,
   "id": "5dcf428a",
   "metadata": {},
   "outputs": [
    {
     "name": "stdout",
     "output_type": "stream",
     "text": [
      "Final estimate of b and w: -5.550284404264813e-16 [0.88465106 0.30065466 0.00138348]\n"
     ]
    }
   ],
   "source": [
    "alpha_df_1,b,w=run_gradient_descent(X,Y,alpha=0.01,num_iterations=2000)"
   ]
  },
  {
   "cell_type": "code",
   "execution_count": 19,
   "id": "9ef5892c",
   "metadata": {},
   "outputs": [
    {
     "name": "stdout",
     "output_type": "stream",
     "text": [
      "Final estimate of b and w: 0.011664695556929715 [0.87172566 0.30203226 0.00909091]\n"
     ]
    }
   ],
   "source": [
    "#Reducing learning paramenter to 0.001\n",
    "alpha_df_2,b,w=run_gradient_descent(X,Y,alpha=0.001,num_iterations=2000)"
   ]
  },
  {
   "cell_type": "code",
   "execution_count": 20,
   "id": "b92508c6",
   "metadata": {},
   "outputs": [
    {
     "data": {
      "text/plain": [
       "Text(0.5, 1.0, 'Cost Vs. Iterations for different alpha values')"
      ]
     },
     "execution_count": 20,
     "metadata": {},
     "output_type": "execute_result"
    },
    {
     "data": {
      "image/png": "[encoded data removed]",
      "text/plain": [
       "<Figure size 432x288 with 1 Axes>"
      ]
     },
     "metadata": {
      "needs_background": "light"
     },
     "output_type": "display_data"
    }
   ],
   "source": [
    "plt.plot(alpha_df_1['iteration'],alpha_df_1['cost'],label=\"alpha=0.01\")\n",
    "plt.plot(alpha_df_2['iteration'],alpha_df_2['cost'],label=\"alpha=0.001\")\n",
    "\n",
    "plt.legend()\n",
    "plt.ylabel('Cost')\n",
    "plt.xlabel('Number of Iterations')\n",
    "plt.title('Cost Vs. Iterations for different alpha values')"
   ]
  },
  {
   "cell_type": "markdown",
   "id": "592eb3c3",
   "metadata": {},
   "source": [
    "# SCIKIT LEARNING LIBRARY FOR ML"
   ]
  },
  {
   "cell_type": "code",
   "execution_count": 21,
   "id": "10a192e7",
   "metadata": {},
   "outputs": [],
   "source": [
    "#Splitting dataset into train and test datasets\n",
    "\n",
    "from sklearn.model_selection import train_test_split\n",
    "\n",
    "X_train,X_test,y_train,y_test=train_test_split(sales_df[[\"TV\",\"Radio\",\"Newspaper\"]],sales_df.Sales,test_size=0.3,random_state=42)"
   ]
  },
  {
   "cell_type": "code",
   "execution_count": 22,
   "id": "797e8ffc",
   "metadata": {},
   "outputs": [
    {
     "data": {
      "text/plain": [
       "140"
      ]
     },
     "execution_count": 22,
     "metadata": {},
     "output_type": "execute_result"
    }
   ],
   "source": [
    "len(X_train)"
   ]
  },
  {
   "cell_type": "code",
   "execution_count": 23,
   "id": "09533b2d",
   "metadata": {},
   "outputs": [
    {
     "data": {
      "text/plain": [
       "60"
      ]
     },
     "execution_count": 23,
     "metadata": {},
     "output_type": "execute_result"
    }
   ],
   "source": [
    "len(X_test)"
   ]
  },
  {
   "cell_type": "code",
   "execution_count": 24,
   "id": "b3d64094",
   "metadata": {},
   "outputs": [],
   "source": [
    "#Building Linear Regression Model with Train Dataset\n",
    "\n",
    "from sklearn.linear_model import LinearRegression"
   ]
  },
  {
   "cell_type": "code",
   "execution_count": 25,
   "id": "fe1b81e5",
   "metadata": {},
   "outputs": [
    {
     "data": {
      "text/plain": [
       "LinearRegression()"
      ]
     },
     "execution_count": 25,
     "metadata": {},
     "output_type": "execute_result"
    }
   ],
   "source": [
    "linreg=LinearRegression()\n",
    "linreg.fit(X_train,y_train)"
   ]
  },
  {
   "cell_type": "code",
   "execution_count": 26,
   "id": "31cf3ee0",
   "metadata": {},
   "outputs": [
    {
     "data": {
      "text/plain": [
       "4.7437667015896885"
      ]
     },
     "execution_count": 26,
     "metadata": {},
     "output_type": "execute_result"
    }
   ],
   "source": [
    "linreg.intercept_"
   ]
  },
  {
   "cell_type": "code",
   "execution_count": 27,
   "id": "0d92535f",
   "metadata": {},
   "outputs": [
    {
     "data": {
      "text/plain": [
       "array([0.05358869, 0.10270677, 0.00793167])"
      ]
     },
     "execution_count": 27,
     "metadata": {},
     "output_type": "execute_result"
    }
   ],
   "source": [
    "linreg.coef_"
   ]
  },
  {
   "cell_type": "code",
   "execution_count": 28,
   "id": "ea0f7557",
   "metadata": {},
   "outputs": [
    {
     "data": {
      "text/plain": [
       "[('TV', 0.05358869132706913),\n",
       " ('Radio', 0.10270676778771291),\n",
       " ('Newspaper', 0.007931667677316283)]"
      ]
     },
     "execution_count": 28,
     "metadata": {},
     "output_type": "execute_result"
    }
   ],
   "source": [
    "list(zip([\"TV\",\"Radio\",\"Newspaper\"],list(linreg.coef_)))"
   ]
  },
  {
   "cell_type": "code",
   "execution_count": 29,
   "id": "dfb5994d",
   "metadata": {},
   "outputs": [],
   "source": [
    "#Making prediction on test set\n",
    "\n",
    "y_pred=linreg.predict(X_test)"
   ]
  },
  {
   "cell_type": "code",
   "execution_count": 37,
   "id": "bb0b152f",
   "metadata": {},
   "outputs": [
    {
     "data": {
      "text/html": [
       "<div>\n",
       "<style scoped>\n",
       "    .dataframe tbody tr th:only-of-type {\n",
       "        vertical-align: middle;\n",
       "    }\n",
       "\n",
       "    .dataframe tbody tr th {\n",
       "        vertical-align: top;\n",
       "    }\n",
       "\n",
       "    .dataframe thead th {\n",
       "        text-align: right;\n",
       "    }\n",
       "</style>\n",
       "<table border=\"1\" class=\"dataframe\">\n",
       "  <thead>\n",
       "    <tr style=\"text-align: right;\">\n",
       "      <th></th>\n",
       "      <th>actual</th>\n",
       "      <th>predicted</th>\n",
       "      <th>residuals</th>\n",
       "    </tr>\n",
       "  </thead>\n",
       "  <tbody>\n",
       "    <tr>\n",
       "      <th>82</th>\n",
       "      <td>11.3</td>\n",
       "      <td>11.12</td>\n",
       "      <td>0.178278</td>\n",
       "    </tr>\n",
       "    <tr>\n",
       "      <th>38</th>\n",
       "      <td>10.1</td>\n",
       "      <td>10.07</td>\n",
       "      <td>0.025888</td>\n",
       "    </tr>\n",
       "    <tr>\n",
       "      <th>135</th>\n",
       "      <td>11.6</td>\n",
       "      <td>12.23</td>\n",
       "      <td>-0.626738</td>\n",
       "    </tr>\n",
       "    <tr>\n",
       "      <th>114</th>\n",
       "      <td>14.6</td>\n",
       "      <td>14.01</td>\n",
       "      <td>0.585278</td>\n",
       "    </tr>\n",
       "    <tr>\n",
       "      <th>126</th>\n",
       "      <td>6.6</td>\n",
       "      <td>9.56</td>\n",
       "      <td>-2.958394</td>\n",
       "    </tr>\n",
       "    <tr>\n",
       "      <th>143</th>\n",
       "      <td>10.4</td>\n",
       "      <td>11.21</td>\n",
       "      <td>-0.807422</td>\n",
       "    </tr>\n",
       "    <tr>\n",
       "      <th>140</th>\n",
       "      <td>10.9</td>\n",
       "      <td>10.53</td>\n",
       "      <td>0.374490</td>\n",
       "    </tr>\n",
       "    <tr>\n",
       "      <th>173</th>\n",
       "      <td>16.7</td>\n",
       "      <td>14.60</td>\n",
       "      <td>2.101154</td>\n",
       "    </tr>\n",
       "    <tr>\n",
       "      <th>16</th>\n",
       "      <td>12.5</td>\n",
       "      <td>13.04</td>\n",
       "      <td>-0.540358</td>\n",
       "    </tr>\n",
       "    <tr>\n",
       "      <th>128</th>\n",
       "      <td>24.7</td>\n",
       "      <td>21.61</td>\n",
       "      <td>3.092632</td>\n",
       "    </tr>\n",
       "  </tbody>\n",
       "</table>\n",
       "</div>"
      ],
      "text/plain": [
       "     actual  predicted  residuals\n",
       "82     11.3      11.12   0.178278\n",
       "38     10.1      10.07   0.025888\n",
       "135    11.6      12.23  -0.626738\n",
       "114    14.6      14.01   0.585278\n",
       "126     6.6       9.56  -2.958394\n",
       "143    10.4      11.21  -0.807422\n",
       "140    10.9      10.53   0.374490\n",
       "173    16.7      14.60   2.101154\n",
       "16     12.5      13.04  -0.540358\n",
       "128    24.7      21.61   3.092632"
      ]
     },
     "execution_count": 37,
     "metadata": {},
     "output_type": "execute_result"
    }
   ],
   "source": [
    "test_pred_df=pd.DataFrame({'actual':y_test,\n",
    "                          'predicted':np.round(y_pred,2),\n",
    "                          'residuals':y_test-y_pred})\n",
    "\n",
    "test_pred_df.sample(10)"
   ]
  },
  {
   "cell_type": "code",
   "execution_count": 38,
   "id": "8f69fc89",
   "metadata": {},
   "outputs": [],
   "source": [
    "#Measuring Accuracy \n",
    "\n",
    "from sklearn import metrics"
   ]
  },
  {
   "cell_type": "code",
   "execution_count": 39,
   "id": "352429b2",
   "metadata": {},
   "outputs": [
    {
     "name": "stdout",
     "output_type": "stream",
     "text": [
      "R squared : 0.8919647339302077\n"
     ]
    }
   ],
   "source": [
    "#R squared Error\n",
    "r2=metrics.r2_score(y_train,linreg.predict(X_train))\n",
    "print(\"R squared :\",r2)"
   ]
  },
  {
   "cell_type": "code",
   "execution_count": 40,
   "id": "f6ed1979",
   "metadata": {},
   "outputs": [],
   "source": [
    "#RMSE Calculation\n",
    "\n",
    "mse=metrics.mean_squared_error(y_test,y_pred)"
   ]
  },
  {
   "cell_type": "code",
   "execution_count": 41,
   "id": "c3732e25",
   "metadata": {},
   "outputs": [
    {
     "name": "stdout",
     "output_type": "stream",
     "text": [
      "RMSE: 1.59\n"
     ]
    }
   ],
   "source": [
    "rmse=round(np.sqrt(mse),2)\n",
    "print(\"RMSE:\",rmse)"
   ]
  },
  {
   "cell_type": "code",
   "execution_count": null,
   "id": "d2a6c543",
   "metadata": {},
   "outputs": [],
   "source": []
  },
  {
   "cell_type": "code",
   "execution_count": null,
   "id": "4253abc1",
   "metadata": {},
   "outputs": [],
   "source": []
  }
 ],
 "metadata": {
  "kernelspec": {
   "display_name": "Python 3 (ipykernel)",
   "language": "python",
   "name": "python3"
  },
  "language_info": {
   "codemirror_mode": {
    "name": "ipython",
    "version": 3
   },
   "file_extension": ".py",
   "mimetype": "text/x-python",
   "name": "python",
   "nbconvert_exporter": "python",
   "pygments_lexer": "ipython3",
   "version": "3.9.7"
  }
 },
 "nbformat": 4,
 "nbformat_minor": 5
}
