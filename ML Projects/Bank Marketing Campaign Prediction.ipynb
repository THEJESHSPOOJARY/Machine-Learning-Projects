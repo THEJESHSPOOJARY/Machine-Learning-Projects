{
 "cells": [
  {
   "cell_type": "markdown",
   "id": "e3a88156",
   "metadata": {},
   "source": [
    "# Loading and Preparing the Dataset"
   ]
  },
  {
   "cell_type": "code",
   "execution_count": 4,
   "id": "bf157e7e",
   "metadata": {},
   "outputs": [
    {
     "data": {
      "text/html": [
       "<div>\n",
       "<style scoped>\n",
       "    .dataframe tbody tr th:only-of-type {\n",
       "        vertical-align: middle;\n",
       "    }\n",
       "\n",
       "    .dataframe tbody tr th {\n",
       "        vertical-align: top;\n",
       "    }\n",
       "\n",
       "    .dataframe thead th {\n",
       "        text-align: right;\n",
       "    }\n",
       "</style>\n",
       "<table border=\"1\" class=\"dataframe\">\n",
       "  <thead>\n",
       "    <tr style=\"text-align: right;\">\n",
       "      <th></th>\n",
       "      <th>age</th>\n",
       "      <th>job</th>\n",
       "      <th>marital</th>\n",
       "      <th>education</th>\n",
       "      <th>default</th>\n",
       "      <th>balance</th>\n",
       "      <th>housing</th>\n",
       "      <th>loan</th>\n",
       "      <th>contact</th>\n",
       "      <th>day</th>\n",
       "      <th>month</th>\n",
       "      <th>duration</th>\n",
       "      <th>campaign</th>\n",
       "      <th>pdays</th>\n",
       "      <th>previous</th>\n",
       "      <th>poutcome</th>\n",
       "      <th>y</th>\n",
       "    </tr>\n",
       "  </thead>\n",
       "  <tbody>\n",
       "    <tr>\n",
       "      <th>0</th>\n",
       "      <td>30</td>\n",
       "      <td>unemployed</td>\n",
       "      <td>married</td>\n",
       "      <td>primary</td>\n",
       "      <td>no</td>\n",
       "      <td>1787</td>\n",
       "      <td>no</td>\n",
       "      <td>no</td>\n",
       "      <td>cellular</td>\n",
       "      <td>19</td>\n",
       "      <td>oct</td>\n",
       "      <td>79</td>\n",
       "      <td>1</td>\n",
       "      <td>-1</td>\n",
       "      <td>0</td>\n",
       "      <td>unknown</td>\n",
       "      <td>no</td>\n",
       "    </tr>\n",
       "    <tr>\n",
       "      <th>1</th>\n",
       "      <td>33</td>\n",
       "      <td>services</td>\n",
       "      <td>married</td>\n",
       "      <td>secondary</td>\n",
       "      <td>no</td>\n",
       "      <td>4789</td>\n",
       "      <td>yes</td>\n",
       "      <td>yes</td>\n",
       "      <td>cellular</td>\n",
       "      <td>11</td>\n",
       "      <td>may</td>\n",
       "      <td>220</td>\n",
       "      <td>1</td>\n",
       "      <td>339</td>\n",
       "      <td>4</td>\n",
       "      <td>failure</td>\n",
       "      <td>no</td>\n",
       "    </tr>\n",
       "    <tr>\n",
       "      <th>2</th>\n",
       "      <td>35</td>\n",
       "      <td>management</td>\n",
       "      <td>single</td>\n",
       "      <td>tertiary</td>\n",
       "      <td>no</td>\n",
       "      <td>1350</td>\n",
       "      <td>yes</td>\n",
       "      <td>no</td>\n",
       "      <td>cellular</td>\n",
       "      <td>16</td>\n",
       "      <td>apr</td>\n",
       "      <td>185</td>\n",
       "      <td>1</td>\n",
       "      <td>330</td>\n",
       "      <td>1</td>\n",
       "      <td>failure</td>\n",
       "      <td>no</td>\n",
       "    </tr>\n",
       "    <tr>\n",
       "      <th>3</th>\n",
       "      <td>30</td>\n",
       "      <td>management</td>\n",
       "      <td>married</td>\n",
       "      <td>tertiary</td>\n",
       "      <td>no</td>\n",
       "      <td>1476</td>\n",
       "      <td>yes</td>\n",
       "      <td>yes</td>\n",
       "      <td>unknown</td>\n",
       "      <td>3</td>\n",
       "      <td>jun</td>\n",
       "      <td>199</td>\n",
       "      <td>4</td>\n",
       "      <td>-1</td>\n",
       "      <td>0</td>\n",
       "      <td>unknown</td>\n",
       "      <td>no</td>\n",
       "    </tr>\n",
       "    <tr>\n",
       "      <th>4</th>\n",
       "      <td>59</td>\n",
       "      <td>blue-collar</td>\n",
       "      <td>married</td>\n",
       "      <td>secondary</td>\n",
       "      <td>no</td>\n",
       "      <td>0</td>\n",
       "      <td>yes</td>\n",
       "      <td>no</td>\n",
       "      <td>unknown</td>\n",
       "      <td>5</td>\n",
       "      <td>may</td>\n",
       "      <td>226</td>\n",
       "      <td>1</td>\n",
       "      <td>-1</td>\n",
       "      <td>0</td>\n",
       "      <td>unknown</td>\n",
       "      <td>no</td>\n",
       "    </tr>\n",
       "  </tbody>\n",
       "</table>\n",
       "</div>"
      ],
      "text/plain": [
       "   age          job  marital  education default  balance housing loan  \\\n",
       "0   30   unemployed  married    primary      no     1787      no   no   \n",
       "1   33     services  married  secondary      no     4789     yes  yes   \n",
       "2   35   management   single   tertiary      no     1350     yes   no   \n",
       "3   30   management  married   tertiary      no     1476     yes  yes   \n",
       "4   59  blue-collar  married  secondary      no        0     yes   no   \n",
       "\n",
       "    contact  day month  duration  campaign  pdays  previous poutcome   y  \n",
       "0  cellular   19   oct        79         1     -1         0  unknown  no  \n",
       "1  cellular   11   may       220         1    339         4  failure  no  \n",
       "2  cellular   16   apr       185         1    330         1  failure  no  \n",
       "3   unknown    3   jun       199         4     -1         0  unknown  no  \n",
       "4   unknown    5   may       226         1     -1         0  unknown  no  "
      ]
     },
     "execution_count": 4,
     "metadata": {},
     "output_type": "execute_result"
    }
   ],
   "source": [
    "import pandas as pd\n",
    "bank_df=pd.read_csv(\"bank.csv\")\n",
    "bank_df.head(5)"
   ]
  },
  {
   "cell_type": "code",
   "execution_count": 5,
   "id": "b938cf91",
   "metadata": {},
   "outputs": [
    {
     "name": "stdout",
     "output_type": "stream",
     "text": [
      "<class 'pandas.core.frame.DataFrame'>\n",
      "RangeIndex: 4521 entries, 0 to 4520\n",
      "Data columns (total 17 columns):\n",
      " #   Column     Non-Null Count  Dtype \n",
      "---  ------     --------------  ----- \n",
      " 0   age        4521 non-null   int64 \n",
      " 1   job        4521 non-null   object\n",
      " 2   marital    4521 non-null   object\n",
      " 3   education  4521 non-null   object\n",
      " 4   default    4521 non-null   object\n",
      " 5   balance    4521 non-null   int64 \n",
      " 6   housing    4521 non-null   object\n",
      " 7   loan       4521 non-null   object\n",
      " 8   contact    4521 non-null   object\n",
      " 9   day        4521 non-null   int64 \n",
      " 10  month      4521 non-null   object\n",
      " 11  duration   4521 non-null   int64 \n",
      " 12  campaign   4521 non-null   int64 \n",
      " 13  pdays      4521 non-null   int64 \n",
      " 14  previous   4521 non-null   int64 \n",
      " 15  poutcome   4521 non-null   object\n",
      " 16  y          4521 non-null   object\n",
      "dtypes: int64(7), object(10)\n",
      "memory usage: 600.6+ KB\n"
     ]
    }
   ],
   "source": [
    "bank_df.info()"
   ]
  },
  {
   "cell_type": "code",
   "execution_count": 9,
   "id": "ed791909",
   "metadata": {},
   "outputs": [
    {
     "data": {
      "text/plain": [
       "['age',\n",
       " 'job',\n",
       " 'marital',\n",
       " 'education',\n",
       " 'default',\n",
       " 'balance',\n",
       " 'housing',\n",
       " 'loan',\n",
       " 'campaign',\n",
       " 'previous']"
      ]
     },
     "execution_count": 9,
     "metadata": {},
     "output_type": "execute_result"
    }
   ],
   "source": [
    "X_features=list(bank_df.columns)\n",
    "X_features.remove('y')\n",
    "X_features.remove('contact')\n",
    "X_features.remove('day')\n",
    "X_features.remove('month')\n",
    "X_features.remove('duration')\n",
    "X_features.remove('pdays')\n",
    "X_features.remove('poutcome')\n",
    "X_features"
   ]
  },
  {
   "cell_type": "code",
   "execution_count": 10,
   "id": "b32bbc4b",
   "metadata": {},
   "outputs": [],
   "source": [
    "encoded_bank_df=pd.get_dummies(bank_df[X_features],drop_first=True)"
   ]
  },
  {
   "cell_type": "code",
   "execution_count": 11,
   "id": "59a8c94e",
   "metadata": {},
   "outputs": [],
   "source": [
    "Y=bank_df.y.map(lambda x : int(x=='yes'))\n",
    "X=encoded_bank_df"
   ]
  },
  {
   "cell_type": "markdown",
   "id": "8976709f",
   "metadata": {},
   "source": [
    "# Building the Logistic Regression Model"
   ]
  },
  {
   "cell_type": "code",
   "execution_count": 13,
   "id": "0c794be2",
   "metadata": {},
   "outputs": [
    {
     "name": "stdout",
     "output_type": "stream",
     "text": [
      "Optimization terminated successfully.\n",
      "         Current function value: 0.335572\n",
      "         Iterations 7\n"
     ]
    },
    {
     "name": "stderr",
     "output_type": "stream",
     "text": [
      "C:\\Users\\windows\\anaconda3\\lib\\site-packages\\statsmodels\\tsa\\tsatools.py:142: FutureWarning: In a future version of pandas all arguments of concat except for the argument 'objs' will be keyword-only\n",
      "  x = pd.concat(x[::order], 1)\n"
     ]
    }
   ],
   "source": [
    "import statsmodels.api as sm\n",
    "logit_model=sm.Logit(Y,sm.add_constant(X)).fit()"
   ]
  },
  {
   "cell_type": "code",
   "execution_count": 14,
   "id": "85e8034a",
   "metadata": {},
   "outputs": [
    {
     "data": {
      "text/html": [
       "<table class=\"simpletable\">\n",
       "<tr>\n",
       "        <td>Model:</td>              <td>Logit</td>      <td>Pseudo R-squared:</td>    <td>0.061</td>  \n",
       "</tr>\n",
       "<tr>\n",
       "  <td>Dependent Variable:</td>         <td>y</td>              <td>AIC:</td>         <td>3082.2384</td>\n",
       "</tr>\n",
       "<tr>\n",
       "         <td>Date:</td>        <td>2022-08-04 18:11</td>       <td>BIC:</td>         <td>3236.2341</td>\n",
       "</tr>\n",
       "<tr>\n",
       "   <td>No. Observations:</td>        <td>4521</td>        <td>Log-Likelihood:</td>    <td>-1517.1</td> \n",
       "</tr>\n",
       "<tr>\n",
       "       <td>Df Model:</td>             <td>23</td>            <td>LL-Null:</td>        <td>-1615.5</td> \n",
       "</tr>\n",
       "<tr>\n",
       "     <td>Df Residuals:</td>          <td>4497</td>         <td>LLR p-value:</td>    <td>1.4866e-29</td>\n",
       "</tr>\n",
       "<tr>\n",
       "      <td>Converged:</td>           <td>1.0000</td>           <td>Scale:</td>         <td>1.0000</td>  \n",
       "</tr>\n",
       "<tr>\n",
       "    <td>No. Iterations:</td>        <td>7.0000</td>              <td></td>               <td></td>     \n",
       "</tr>\n",
       "</table>\n",
       "<table class=\"simpletable\">\n",
       "<tr>\n",
       "           <td></td>            <th>Coef.</th>  <th>Std.Err.</th>    <th>z</th>     <th>P>|z|</th> <th>[0.025</th>  <th>0.975]</th> \n",
       "</tr>\n",
       "<tr>\n",
       "  <th>const</th>               <td>-1.7573</td>  <td>0.3799</td>  <td>-4.6251</td> <td>0.0000</td> <td>-2.5019</td> <td>-1.0126</td>\n",
       "</tr>\n",
       "<tr>\n",
       "  <th>age</th>                 <td>0.0078</td>   <td>0.0058</td>  <td>1.3395</td>  <td>0.1804</td> <td>-0.0036</td> <td>0.0191</td> \n",
       "</tr>\n",
       "<tr>\n",
       "  <th>balance</th>             <td>-0.0000</td>  <td>0.0000</td>  <td>-0.2236</td> <td>0.8231</td> <td>-0.0000</td> <td>0.0000</td> \n",
       "</tr>\n",
       "<tr>\n",
       "  <th>campaign</th>            <td>-0.0905</td>  <td>0.0238</td>  <td>-3.8042</td> <td>0.0001</td> <td>-0.1371</td> <td>-0.0439</td>\n",
       "</tr>\n",
       "<tr>\n",
       "  <th>previous</th>            <td>0.1414</td>   <td>0.0212</td>  <td>6.6569</td>  <td>0.0000</td> <td>0.0998</td>  <td>0.1830</td> \n",
       "</tr>\n",
       "<tr>\n",
       "  <th>job_blue-collar</th>     <td>-0.3412</td>  <td>0.2000</td>  <td>-1.7060</td> <td>0.0880</td> <td>-0.7331</td> <td>0.0508</td> \n",
       "</tr>\n",
       "<tr>\n",
       "  <th>job_entrepreneur</th>    <td>-0.2900</td>  <td>0.3161</td>  <td>-0.9175</td> <td>0.3589</td> <td>-0.9096</td> <td>0.3295</td> \n",
       "</tr>\n",
       "<tr>\n",
       "  <th>job_housemaid</th>       <td>-0.0166</td>  <td>0.3339</td>  <td>-0.0497</td> <td>0.9603</td> <td>-0.6711</td> <td>0.6379</td> \n",
       "</tr>\n",
       "<tr>\n",
       "  <th>job_management</th>      <td>-0.0487</td>  <td>0.1984</td>  <td>-0.2455</td> <td>0.8061</td> <td>-0.4375</td> <td>0.3401</td> \n",
       "</tr>\n",
       "<tr>\n",
       "  <th>job_retired</th>         <td>0.5454</td>   <td>0.2503</td>  <td>2.1794</td>  <td>0.0293</td> <td>0.0549</td>  <td>1.0360</td> \n",
       "</tr>\n",
       "<tr>\n",
       "  <th>job_self-employed</th>   <td>-0.2234</td>  <td>0.2895</td>  <td>-0.7715</td> <td>0.4404</td> <td>-0.7909</td> <td>0.3441</td> \n",
       "</tr>\n",
       "<tr>\n",
       "  <th>job_services</th>        <td>-0.2248</td>  <td>0.2245</td>  <td>-1.0012</td> <td>0.3167</td> <td>-0.6648</td> <td>0.2152</td> \n",
       "</tr>\n",
       "<tr>\n",
       "  <th>job_student</th>         <td>0.3888</td>   <td>0.3181</td>  <td>1.2223</td>  <td>0.2216</td> <td>-0.2346</td> <td>1.0122</td> \n",
       "</tr>\n",
       "<tr>\n",
       "  <th>job_technician</th>      <td>-0.2101</td>  <td>0.1874</td>  <td>-1.1213</td> <td>0.2622</td> <td>-0.5773</td> <td>0.1571</td> \n",
       "</tr>\n",
       "<tr>\n",
       "  <th>job_unemployed</th>      <td>-0.3723</td>  <td>0.3336</td>  <td>-1.1162</td> <td>0.2643</td> <td>-1.0261</td> <td>0.2815</td> \n",
       "</tr>\n",
       "<tr>\n",
       "  <th>job_unknown</th>         <td>0.3193</td>   <td>0.4620</td>  <td>0.6913</td>  <td>0.4894</td> <td>-0.5861</td> <td>1.2248</td> \n",
       "</tr>\n",
       "<tr>\n",
       "  <th>marital_married</th>     <td>-0.4012</td>  <td>0.1440</td>  <td>-2.7857</td> <td>0.0053</td> <td>-0.6835</td> <td>-0.1189</td>\n",
       "</tr>\n",
       "<tr>\n",
       "  <th>marital_single</th>      <td>-0.0463</td>  <td>0.1676</td>  <td>-0.2763</td> <td>0.7823</td> <td>-0.3749</td> <td>0.2822</td> \n",
       "</tr>\n",
       "<tr>\n",
       "  <th>education_secondary</th> <td>0.2128</td>   <td>0.1680</td>  <td>1.2670</td>  <td>0.2052</td> <td>-0.1164</td> <td>0.5420</td> \n",
       "</tr>\n",
       "<tr>\n",
       "  <th>education_tertiary</th>  <td>0.3891</td>   <td>0.1935</td>  <td>2.0103</td>  <td>0.0444</td> <td>0.0098</td>  <td>0.7684</td> \n",
       "</tr>\n",
       "<tr>\n",
       "  <th>education_unknown</th>   <td>-0.1956</td>  <td>0.2927</td>  <td>-0.6682</td> <td>0.5040</td> <td>-0.7693</td> <td>0.3781</td> \n",
       "</tr>\n",
       "<tr>\n",
       "  <th>default_yes</th>         <td>0.2286</td>   <td>0.3670</td>  <td>0.6228</td>  <td>0.5334</td> <td>-0.4908</td> <td>0.9479</td> \n",
       "</tr>\n",
       "<tr>\n",
       "  <th>housing_yes</th>         <td>-0.5355</td>  <td>0.1024</td>  <td>-5.2273</td> <td>0.0000</td> <td>-0.7362</td> <td>-0.3347</td>\n",
       "</tr>\n",
       "<tr>\n",
       "  <th>loan_yes</th>            <td>-0.7139</td>  <td>0.1689</td>  <td>-4.2268</td> <td>0.0000</td> <td>-1.0449</td> <td>-0.3829</td>\n",
       "</tr>\n",
       "</table>"
      ],
      "text/plain": [
       "<class 'statsmodels.iolib.summary2.Summary'>\n",
       "\"\"\"\n",
       "                          Results: Logit\n",
       "===================================================================\n",
       "Model:                Logit            Pseudo R-squared: 0.061     \n",
       "Dependent Variable:   y                AIC:              3082.2384 \n",
       "Date:                 2022-08-04 18:11 BIC:              3236.2341 \n",
       "No. Observations:     4521             Log-Likelihood:   -1517.1   \n",
       "Df Model:             23               LL-Null:          -1615.5   \n",
       "Df Residuals:         4497             LLR p-value:      1.4866e-29\n",
       "Converged:            1.0000           Scale:            1.0000    \n",
       "No. Iterations:       7.0000                                       \n",
       "-------------------------------------------------------------------\n",
       "                     Coef.  Std.Err.    z    P>|z|   [0.025  0.975]\n",
       "-------------------------------------------------------------------\n",
       "const               -1.7573   0.3799 -4.6251 0.0000 -2.5019 -1.0126\n",
       "age                  0.0078   0.0058  1.3395 0.1804 -0.0036  0.0191\n",
       "balance             -0.0000   0.0000 -0.2236 0.8231 -0.0000  0.0000\n",
       "campaign            -0.0905   0.0238 -3.8042 0.0001 -0.1371 -0.0439\n",
       "previous             0.1414   0.0212  6.6569 0.0000  0.0998  0.1830\n",
       "job_blue-collar     -0.3412   0.2000 -1.7060 0.0880 -0.7331  0.0508\n",
       "job_entrepreneur    -0.2900   0.3161 -0.9175 0.3589 -0.9096  0.3295\n",
       "job_housemaid       -0.0166   0.3339 -0.0497 0.9603 -0.6711  0.6379\n",
       "job_management      -0.0487   0.1984 -0.2455 0.8061 -0.4375  0.3401\n",
       "job_retired          0.5454   0.2503  2.1794 0.0293  0.0549  1.0360\n",
       "job_self-employed   -0.2234   0.2895 -0.7715 0.4404 -0.7909  0.3441\n",
       "job_services        -0.2248   0.2245 -1.0012 0.3167 -0.6648  0.2152\n",
       "job_student          0.3888   0.3181  1.2223 0.2216 -0.2346  1.0122\n",
       "job_technician      -0.2101   0.1874 -1.1213 0.2622 -0.5773  0.1571\n",
       "job_unemployed      -0.3723   0.3336 -1.1162 0.2643 -1.0261  0.2815\n",
       "job_unknown          0.3193   0.4620  0.6913 0.4894 -0.5861  1.2248\n",
       "marital_married     -0.4012   0.1440 -2.7857 0.0053 -0.6835 -0.1189\n",
       "marital_single      -0.0463   0.1676 -0.2763 0.7823 -0.3749  0.2822\n",
       "education_secondary  0.2128   0.1680  1.2670 0.2052 -0.1164  0.5420\n",
       "education_tertiary   0.3891   0.1935  2.0103 0.0444  0.0098  0.7684\n",
       "education_unknown   -0.1956   0.2927 -0.6682 0.5040 -0.7693  0.3781\n",
       "default_yes          0.2286   0.3670  0.6228 0.5334 -0.4908  0.9479\n",
       "housing_yes         -0.5355   0.1024 -5.2273 0.0000 -0.7362 -0.3347\n",
       "loan_yes            -0.7139   0.1689 -4.2268 0.0000 -1.0449 -0.3829\n",
       "===================================================================\n",
       "\n",
       "\"\"\""
      ]
     },
     "execution_count": 14,
     "metadata": {},
     "output_type": "execute_result"
    }
   ],
   "source": [
    "logit_model.summary2()"
   ]
  },
  {
   "cell_type": "code",
   "execution_count": 17,
   "id": "5a8bd956",
   "metadata": {},
   "outputs": [
    {
     "data": {
      "text/plain": [
       "['const',\n",
       " 'campaign',\n",
       " 'previous',\n",
       " 'job_retired',\n",
       " 'marital_married',\n",
       " 'education_tertiary',\n",
       " 'housing_yes',\n",
       " 'loan_yes']"
      ]
     },
     "execution_count": 17,
     "metadata": {},
     "output_type": "execute_result"
    }
   ],
   "source": [
    "\n",
    "# For significant variables - p value<=0.05\n",
    "def get_significant_vars(lm):\n",
    "    var_p_vals_df=pd.DataFrame(lm.pvalues)\n",
    "    var_p_vals_df['vars']=var_p_vals_df.index\n",
    "    var_p_vals_df.columns=['pvals','vars']\n",
    "    return list(var_p_vals_df[var_p_vals_df.pvals<=0.05]['vars'])\n",
    "\n",
    "\n",
    "significant_vars=get_significant_vars(logit_model)\n",
    "significant_vars"
   ]
  },
  {
   "cell_type": "code",
   "execution_count": 19,
   "id": "65e00743",
   "metadata": {},
   "outputs": [],
   "source": [
    "X_features=[\n",
    " 'campaign',\n",
    " 'previous',\n",
    " 'job_retired',\n",
    " 'marital_married',\n",
    " 'education_tertiary',\n",
    " 'housing_yes',\n",
    " 'loan_yes']"
   ]
  },
  {
   "cell_type": "code",
   "execution_count": 22,
   "id": "d33537eb",
   "metadata": {},
   "outputs": [
    {
     "name": "stdout",
     "output_type": "stream",
     "text": [
      "Optimization terminated successfully.\n",
      "         Current function value: 0.337228\n",
      "         Iterations 7\n"
     ]
    }
   ],
   "source": [
    "logit_model_2=sm.Logit(Y,sm.add_constant(X[X_features])).fit()"
   ]
  },
  {
   "cell_type": "code",
   "execution_count": 23,
   "id": "4e725398",
   "metadata": {},
   "outputs": [
    {
     "data": {
      "text/html": [
       "<table class=\"simpletable\">\n",
       "<tr>\n",
       "        <td>Model:</td>              <td>Logit</td>      <td>Pseudo R-squared:</td>    <td>0.056</td>  \n",
       "</tr>\n",
       "<tr>\n",
       "  <td>Dependent Variable:</td>         <td>y</td>              <td>AIC:</td>         <td>3065.2182</td>\n",
       "</tr>\n",
       "<tr>\n",
       "         <td>Date:</td>        <td>2022-08-04 18:20</td>       <td>BIC:</td>         <td>3116.5501</td>\n",
       "</tr>\n",
       "<tr>\n",
       "   <td>No. Observations:</td>        <td>4521</td>        <td>Log-Likelihood:</td>    <td>-1524.6</td> \n",
       "</tr>\n",
       "<tr>\n",
       "       <td>Df Model:</td>              <td>7</td>            <td>LL-Null:</td>        <td>-1615.5</td> \n",
       "</tr>\n",
       "<tr>\n",
       "     <td>Df Residuals:</td>          <td>4513</td>         <td>LLR p-value:</td>    <td>8.1892e-36</td>\n",
       "</tr>\n",
       "<tr>\n",
       "      <td>Converged:</td>           <td>1.0000</td>           <td>Scale:</td>         <td>1.0000</td>  \n",
       "</tr>\n",
       "<tr>\n",
       "    <td>No. Iterations:</td>        <td>7.0000</td>              <td></td>               <td></td>     \n",
       "</tr>\n",
       "</table>\n",
       "<table class=\"simpletable\">\n",
       "<tr>\n",
       "           <td></td>           <th>Coef.</th>  <th>Std.Err.</th>     <th>z</th>     <th>P>|z|</th> <th>[0.025</th>  <th>0.975]</th> \n",
       "</tr>\n",
       "<tr>\n",
       "  <th>const</th>              <td>-1.4754</td>  <td>0.1133</td>  <td>-13.0260</td> <td>0.0000</td> <td>-1.6974</td> <td>-1.2534</td>\n",
       "</tr>\n",
       "<tr>\n",
       "  <th>campaign</th>           <td>-0.0893</td>  <td>0.0236</td>   <td>-3.7925</td> <td>0.0001</td> <td>-0.1355</td> <td>-0.0432</td>\n",
       "</tr>\n",
       "<tr>\n",
       "  <th>previous</th>           <td>0.1419</td>   <td>0.0211</td>   <td>6.7097</td>  <td>0.0000</td> <td>0.1004</td>  <td>0.1833</td> \n",
       "</tr>\n",
       "<tr>\n",
       "  <th>job_retired</th>        <td>0.8246</td>   <td>0.1731</td>   <td>4.7628</td>  <td>0.0000</td> <td>0.4853</td>  <td>1.1639</td> \n",
       "</tr>\n",
       "<tr>\n",
       "  <th>marital_married</th>    <td>-0.3767</td>  <td>0.0969</td>   <td>-3.8878</td> <td>0.0001</td> <td>-0.5667</td> <td>-0.1868</td>\n",
       "</tr>\n",
       "<tr>\n",
       "  <th>education_tertiary</th> <td>0.2991</td>   <td>0.1014</td>   <td>2.9500</td>  <td>0.0032</td> <td>0.1004</td>  <td>0.4978</td> \n",
       "</tr>\n",
       "<tr>\n",
       "  <th>housing_yes</th>        <td>-0.5834</td>  <td>0.0986</td>   <td>-5.9179</td> <td>0.0000</td> <td>-0.7767</td> <td>-0.3902</td>\n",
       "</tr>\n",
       "<tr>\n",
       "  <th>loan_yes</th>           <td>-0.7025</td>  <td>0.1672</td>   <td>-4.2012</td> <td>0.0000</td> <td>-1.0302</td> <td>-0.3748</td>\n",
       "</tr>\n",
       "</table>"
      ],
      "text/plain": [
       "<class 'statsmodels.iolib.summary2.Summary'>\n",
       "\"\"\"\n",
       "                          Results: Logit\n",
       "===================================================================\n",
       "Model:                Logit            Pseudo R-squared: 0.056     \n",
       "Dependent Variable:   y                AIC:              3065.2182 \n",
       "Date:                 2022-08-04 18:20 BIC:              3116.5501 \n",
       "No. Observations:     4521             Log-Likelihood:   -1524.6   \n",
       "Df Model:             7                LL-Null:          -1615.5   \n",
       "Df Residuals:         4513             LLR p-value:      8.1892e-36\n",
       "Converged:            1.0000           Scale:            1.0000    \n",
       "No. Iterations:       7.0000                                       \n",
       "-------------------------------------------------------------------\n",
       "                    Coef.  Std.Err.    z     P>|z|   [0.025  0.975]\n",
       "-------------------------------------------------------------------\n",
       "const              -1.4754   0.1133 -13.0260 0.0000 -1.6974 -1.2534\n",
       "campaign           -0.0893   0.0236  -3.7925 0.0001 -0.1355 -0.0432\n",
       "previous            0.1419   0.0211   6.7097 0.0000  0.1004  0.1833\n",
       "job_retired         0.8246   0.1731   4.7628 0.0000  0.4853  1.1639\n",
       "marital_married    -0.3767   0.0969  -3.8878 0.0001 -0.5667 -0.1868\n",
       "education_tertiary  0.2991   0.1014   2.9500 0.0032  0.1004  0.4978\n",
       "housing_yes        -0.5834   0.0986  -5.9179 0.0000 -0.7767 -0.3902\n",
       "loan_yes           -0.7025   0.1672  -4.2012 0.0000 -1.0302 -0.3748\n",
       "===================================================================\n",
       "\n",
       "\"\"\""
      ]
     },
     "execution_count": 23,
     "metadata": {},
     "output_type": "execute_result"
    }
   ],
   "source": [
    "logit_model_2.summary2()"
   ]
  },
  {
   "cell_type": "code",
   "execution_count": 24,
   "id": "0856296c",
   "metadata": {},
   "outputs": [
    {
     "name": "stderr",
     "output_type": "stream",
     "text": [
      "C:\\Users\\windows\\anaconda3\\lib\\site-packages\\statsmodels\\tsa\\tsatools.py:142: FutureWarning: In a future version of pandas all arguments of concat except for the argument 'objs' will be keyword-only\n",
      "  x = pd.concat(x[::order], 1)\n"
     ]
    }
   ],
   "source": [
    "y_pred_df=pd.DataFrame({'actual':Y,'predicted_prob':logit_model_2.predict(sm.add_constant(X[X_features]))})"
   ]
  },
  {
   "cell_type": "code",
   "execution_count": 25,
   "id": "37cefafb",
   "metadata": {},
   "outputs": [],
   "source": [
    "sorted_predict_df=y_pred_df[['predicted_prob','actual']].sort_values('predicted_prob',ascending=False)"
   ]
  },
  {
   "cell_type": "code",
   "execution_count": 27,
   "id": "f30ff35e",
   "metadata": {},
   "outputs": [
    {
     "name": "stdout",
     "output_type": "stream",
     "text": [
      "Number of observations per decile: 452\n"
     ]
    }
   ],
   "source": [
    "num_per_decile=int(len(sorted_predict_df)/10)\n",
    "print(\"Number of observations per decile:\",num_per_decile)"
   ]
  },
  {
   "cell_type": "code",
   "execution_count": 28,
   "id": "06f96c5c",
   "metadata": {},
   "outputs": [],
   "source": [
    "def get_deciles(df):\n",
    "    #set first decile\n",
    "    df['decile']=1\n",
    "    \n",
    "    idx=0\n",
    "    #Iterate through all the 10 deciles\n",
    "    for each_d in range(0,10):\n",
    "        #Setting each 452 observtions to one decile in sequence \n",
    "        df.iloc[idx:idx+num_per_decile, df.columns.get_loc('decile')]=each_d\n",
    "        idx+=num_per_decile\n",
    "        \n",
    "    df['decile']=df['decile']+1\n",
    "    \n",
    "    return df"
   ]
  },
  {
   "cell_type": "code",
   "execution_count": 29,
   "id": "a34acb66",
   "metadata": {},
   "outputs": [],
   "source": [
    "deciles_predict_df=get_deciles(sorted_predict_df)"
   ]
  },
  {
   "cell_type": "code",
   "execution_count": 30,
   "id": "d8eeb372",
   "metadata": {},
   "outputs": [
    {
     "data": {
      "text/html": [
       "<div>\n",
       "<style scoped>\n",
       "    .dataframe tbody tr th:only-of-type {\n",
       "        vertical-align: middle;\n",
       "    }\n",
       "\n",
       "    .dataframe tbody tr th {\n",
       "        vertical-align: top;\n",
       "    }\n",
       "\n",
       "    .dataframe thead th {\n",
       "        text-align: right;\n",
       "    }\n",
       "</style>\n",
       "<table border=\"1\" class=\"dataframe\">\n",
       "  <thead>\n",
       "    <tr style=\"text-align: right;\">\n",
       "      <th></th>\n",
       "      <th>predicted_prob</th>\n",
       "      <th>actual</th>\n",
       "      <th>decile</th>\n",
       "    </tr>\n",
       "  </thead>\n",
       "  <tbody>\n",
       "    <tr>\n",
       "      <th>3682</th>\n",
       "      <td>0.864769</td>\n",
       "      <td>0</td>\n",
       "      <td>1</td>\n",
       "    </tr>\n",
       "    <tr>\n",
       "      <th>97</th>\n",
       "      <td>0.828031</td>\n",
       "      <td>0</td>\n",
       "      <td>1</td>\n",
       "    </tr>\n",
       "    <tr>\n",
       "      <th>3426</th>\n",
       "      <td>0.706809</td>\n",
       "      <td>0</td>\n",
       "      <td>1</td>\n",
       "    </tr>\n",
       "    <tr>\n",
       "      <th>1312</th>\n",
       "      <td>0.642337</td>\n",
       "      <td>1</td>\n",
       "      <td>1</td>\n",
       "    </tr>\n",
       "    <tr>\n",
       "      <th>3930</th>\n",
       "      <td>0.631032</td>\n",
       "      <td>1</td>\n",
       "      <td>1</td>\n",
       "    </tr>\n",
       "    <tr>\n",
       "      <th>4397</th>\n",
       "      <td>0.619146</td>\n",
       "      <td>0</td>\n",
       "      <td>1</td>\n",
       "    </tr>\n",
       "    <tr>\n",
       "      <th>2070</th>\n",
       "      <td>0.609129</td>\n",
       "      <td>0</td>\n",
       "      <td>1</td>\n",
       "    </tr>\n",
       "    <tr>\n",
       "      <th>3023</th>\n",
       "      <td>0.573199</td>\n",
       "      <td>0</td>\n",
       "      <td>1</td>\n",
       "    </tr>\n",
       "    <tr>\n",
       "      <th>4080</th>\n",
       "      <td>0.572364</td>\n",
       "      <td>0</td>\n",
       "      <td>1</td>\n",
       "    </tr>\n",
       "    <tr>\n",
       "      <th>804</th>\n",
       "      <td>0.559350</td>\n",
       "      <td>0</td>\n",
       "      <td>1</td>\n",
       "    </tr>\n",
       "  </tbody>\n",
       "</table>\n",
       "</div>"
      ],
      "text/plain": [
       "      predicted_prob  actual  decile\n",
       "3682        0.864769       0       1\n",
       "97          0.828031       0       1\n",
       "3426        0.706809       0       1\n",
       "1312        0.642337       1       1\n",
       "3930        0.631032       1       1\n",
       "4397        0.619146       0       1\n",
       "2070        0.609129       0       1\n",
       "3023        0.573199       0       1\n",
       "4080        0.572364       0       1\n",
       "804         0.559350       0       1"
      ]
     },
     "execution_count": 30,
     "metadata": {},
     "output_type": "execute_result"
    }
   ],
   "source": [
    "deciles_predict_df[0:10]"
   ]
  },
  {
   "cell_type": "code",
   "execution_count": 31,
   "id": "95545f5e",
   "metadata": {},
   "outputs": [],
   "source": [
    "#Calculation Gain\n",
    "\n",
    "gain_lift_df=pd.DataFrame(deciles_predict_df.groupby('decile')['actual'].sum()).reset_index()\n",
    "gain_lift_df.columns=['decile','gain']"
   ]
  },
  {
   "cell_type": "code",
   "execution_count": 32,
   "id": "c9834d9a",
   "metadata": {},
   "outputs": [],
   "source": [
    "gain_lift_df['gain_percentage']=(100*gain_lift_df.gain.cumsum()/gain_lift_df.gain.sum())"
   ]
  },
  {
   "cell_type": "code",
   "execution_count": 33,
   "id": "66b0d532",
   "metadata": {},
   "outputs": [
    {
     "data": {
      "text/html": [
       "<div>\n",
       "<style scoped>\n",
       "    .dataframe tbody tr th:only-of-type {\n",
       "        vertical-align: middle;\n",
       "    }\n",
       "\n",
       "    .dataframe tbody tr th {\n",
       "        vertical-align: top;\n",
       "    }\n",
       "\n",
       "    .dataframe thead th {\n",
       "        text-align: right;\n",
       "    }\n",
       "</style>\n",
       "<table border=\"1\" class=\"dataframe\">\n",
       "  <thead>\n",
       "    <tr style=\"text-align: right;\">\n",
       "      <th></th>\n",
       "      <th>decile</th>\n",
       "      <th>gain</th>\n",
       "      <th>gain_percentage</th>\n",
       "    </tr>\n",
       "  </thead>\n",
       "  <tbody>\n",
       "    <tr>\n",
       "      <th>0</th>\n",
       "      <td>1</td>\n",
       "      <td>125</td>\n",
       "      <td>23.992322</td>\n",
       "    </tr>\n",
       "    <tr>\n",
       "      <th>1</th>\n",
       "      <td>2</td>\n",
       "      <td>83</td>\n",
       "      <td>39.923225</td>\n",
       "    </tr>\n",
       "    <tr>\n",
       "      <th>2</th>\n",
       "      <td>3</td>\n",
       "      <td>73</td>\n",
       "      <td>53.934741</td>\n",
       "    </tr>\n",
       "    <tr>\n",
       "      <th>3</th>\n",
       "      <td>4</td>\n",
       "      <td>53</td>\n",
       "      <td>64.107486</td>\n",
       "    </tr>\n",
       "    <tr>\n",
       "      <th>4</th>\n",
       "      <td>5</td>\n",
       "      <td>31</td>\n",
       "      <td>70.057582</td>\n",
       "    </tr>\n",
       "    <tr>\n",
       "      <th>5</th>\n",
       "      <td>6</td>\n",
       "      <td>46</td>\n",
       "      <td>78.886756</td>\n",
       "    </tr>\n",
       "    <tr>\n",
       "      <th>6</th>\n",
       "      <td>7</td>\n",
       "      <td>37</td>\n",
       "      <td>85.988484</td>\n",
       "    </tr>\n",
       "    <tr>\n",
       "      <th>7</th>\n",
       "      <td>8</td>\n",
       "      <td>28</td>\n",
       "      <td>91.362764</td>\n",
       "    </tr>\n",
       "    <tr>\n",
       "      <th>8</th>\n",
       "      <td>9</td>\n",
       "      <td>25</td>\n",
       "      <td>96.161228</td>\n",
       "    </tr>\n",
       "    <tr>\n",
       "      <th>9</th>\n",
       "      <td>10</td>\n",
       "      <td>20</td>\n",
       "      <td>100.000000</td>\n",
       "    </tr>\n",
       "  </tbody>\n",
       "</table>\n",
       "</div>"
      ],
      "text/plain": [
       "   decile  gain  gain_percentage\n",
       "0       1   125        23.992322\n",
       "1       2    83        39.923225\n",
       "2       3    73        53.934741\n",
       "3       4    53        64.107486\n",
       "4       5    31        70.057582\n",
       "5       6    46        78.886756\n",
       "6       7    37        85.988484\n",
       "7       8    28        91.362764\n",
       "8       9    25        96.161228\n",
       "9      10    20       100.000000"
      ]
     },
     "execution_count": 33,
     "metadata": {},
     "output_type": "execute_result"
    }
   ],
   "source": [
    "gain_lift_df"
   ]
  },
  {
   "cell_type": "code",
   "execution_count": 36,
   "id": "842371d8",
   "metadata": {},
   "outputs": [],
   "source": [
    "import matplotlib.pyplot as plt\n",
    "import seaborn as sn\n",
    "%matplotlib inline"
   ]
  },
  {
   "cell_type": "code",
   "execution_count": 37,
   "id": "83112fc4",
   "metadata": {},
   "outputs": [
    {
     "data": {
      "image/png": "[encoded data removed]",
      "text/plain": [
       "<Figure size 576x288 with 1 Axes>"
      ]
     },
     "metadata": {
      "needs_background": "light"
     },
     "output_type": "display_data"
    }
   ],
   "source": [
    "plt.figure(figsize=(8,4))\n",
    "plt.plot(gain_lift_df['decile'],gain_lift_df['gain_percentage'],'-')\n",
    "\n",
    "plt.show()"
   ]
  },
  {
   "cell_type": "code",
   "execution_count": 39,
   "id": "233fa382",
   "metadata": {},
   "outputs": [
    {
     "data": {
      "text/html": [
       "<div>\n",
       "<style scoped>\n",
       "    .dataframe tbody tr th:only-of-type {\n",
       "        vertical-align: middle;\n",
       "    }\n",
       "\n",
       "    .dataframe tbody tr th {\n",
       "        vertical-align: top;\n",
       "    }\n",
       "\n",
       "    .dataframe thead th {\n",
       "        text-align: right;\n",
       "    }\n",
       "</style>\n",
       "<table border=\"1\" class=\"dataframe\">\n",
       "  <thead>\n",
       "    <tr style=\"text-align: right;\">\n",
       "      <th></th>\n",
       "      <th>decile</th>\n",
       "      <th>gain</th>\n",
       "      <th>gain_percentage</th>\n",
       "      <th>lift</th>\n",
       "    </tr>\n",
       "  </thead>\n",
       "  <tbody>\n",
       "    <tr>\n",
       "      <th>0</th>\n",
       "      <td>1</td>\n",
       "      <td>125</td>\n",
       "      <td>23.992322</td>\n",
       "      <td>2.399232</td>\n",
       "    </tr>\n",
       "    <tr>\n",
       "      <th>1</th>\n",
       "      <td>2</td>\n",
       "      <td>83</td>\n",
       "      <td>39.923225</td>\n",
       "      <td>1.996161</td>\n",
       "    </tr>\n",
       "    <tr>\n",
       "      <th>2</th>\n",
       "      <td>3</td>\n",
       "      <td>73</td>\n",
       "      <td>53.934741</td>\n",
       "      <td>1.797825</td>\n",
       "    </tr>\n",
       "    <tr>\n",
       "      <th>3</th>\n",
       "      <td>4</td>\n",
       "      <td>53</td>\n",
       "      <td>64.107486</td>\n",
       "      <td>1.602687</td>\n",
       "    </tr>\n",
       "    <tr>\n",
       "      <th>4</th>\n",
       "      <td>5</td>\n",
       "      <td>31</td>\n",
       "      <td>70.057582</td>\n",
       "      <td>1.401152</td>\n",
       "    </tr>\n",
       "    <tr>\n",
       "      <th>5</th>\n",
       "      <td>6</td>\n",
       "      <td>46</td>\n",
       "      <td>78.886756</td>\n",
       "      <td>1.314779</td>\n",
       "    </tr>\n",
       "    <tr>\n",
       "      <th>6</th>\n",
       "      <td>7</td>\n",
       "      <td>37</td>\n",
       "      <td>85.988484</td>\n",
       "      <td>1.228407</td>\n",
       "    </tr>\n",
       "    <tr>\n",
       "      <th>7</th>\n",
       "      <td>8</td>\n",
       "      <td>28</td>\n",
       "      <td>91.362764</td>\n",
       "      <td>1.142035</td>\n",
       "    </tr>\n",
       "    <tr>\n",
       "      <th>8</th>\n",
       "      <td>9</td>\n",
       "      <td>25</td>\n",
       "      <td>96.161228</td>\n",
       "      <td>1.068458</td>\n",
       "    </tr>\n",
       "    <tr>\n",
       "      <th>9</th>\n",
       "      <td>10</td>\n",
       "      <td>20</td>\n",
       "      <td>100.000000</td>\n",
       "      <td>1.000000</td>\n",
       "    </tr>\n",
       "  </tbody>\n",
       "</table>\n",
       "</div>"
      ],
      "text/plain": [
       "   decile  gain  gain_percentage      lift\n",
       "0       1   125        23.992322  2.399232\n",
       "1       2    83        39.923225  1.996161\n",
       "2       3    73        53.934741  1.797825\n",
       "3       4    53        64.107486  1.602687\n",
       "4       5    31        70.057582  1.401152\n",
       "5       6    46        78.886756  1.314779\n",
       "6       7    37        85.988484  1.228407\n",
       "7       8    28        91.362764  1.142035\n",
       "8       9    25        96.161228  1.068458\n",
       "9      10    20       100.000000  1.000000"
      ]
     },
     "execution_count": 39,
     "metadata": {},
     "output_type": "execute_result"
    }
   ],
   "source": [
    "#Calculating Lift\n",
    "gain_lift_df['lift']=(gain_lift_df.gain_percentage/(gain_lift_df.decile*10))\n",
    "\n",
    "gain_lift_df"
   ]
  },
  {
   "cell_type": "code",
   "execution_count": 40,
   "id": "9ce0cb6a",
   "metadata": {},
   "outputs": [
    {
     "data": {
      "image/png": "[encoded data removed]",
      "text/plain": [
       "<Figure size 576x288 with 1 Axes>"
      ]
     },
     "metadata": {
      "needs_background": "light"
     },
     "output_type": "display_data"
    }
   ],
   "source": [
    "plt.figure(figsize=(8,4))\n",
    "plt.plot(gain_lift_df['decile'],gain_lift_df['lift'],'-')\n",
    "plt.show()"
   ]
  },
  {
   "cell_type": "code",
   "execution_count": null,
   "id": "7705657e",
   "metadata": {},
   "outputs": [],
   "source": []
  }
 ],
 "metadata": {
  "kernelspec": {
   "display_name": "Python 3 (ipykernel)",
   "language": "python",
   "name": "python3"
  },
  "language_info": {
   "codemirror_mode": {
    "name": "ipython",
    "version": 3
   },
   "file_extension": ".py",
   "mimetype": "text/x-python",
   "name": "python",
   "nbconvert_exporter": "python",
   "pygments_lexer": "ipython3",
   "version": "3.9.7"
  }
 },
 "nbformat": 4,
 "nbformat_minor": 5
}
