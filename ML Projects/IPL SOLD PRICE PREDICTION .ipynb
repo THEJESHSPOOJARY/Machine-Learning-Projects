{
 "cells": [
  {
   "cell_type": "markdown",
   "id": "c3336088",
   "metadata": {},
   "source": [
    "# LOADING IPL DATASET"
   ]
  },
  {
   "cell_type": "code",
   "execution_count": 1,
   "id": "1ce7e132",
   "metadata": {},
   "outputs": [
    {
     "name": "stdout",
     "output_type": "stream",
     "text": [
      "<class 'pandas.core.frame.DataFrame'>\n",
      "RangeIndex: 130 entries, 0 to 129\n",
      "Data columns (total 26 columns):\n",
      " #   Column         Non-Null Count  Dtype  \n",
      "---  ------         --------------  -----  \n",
      " 0   Sl.NO.         130 non-null    int64  \n",
      " 1   PLAYER NAME    130 non-null    object \n",
      " 2   AGE            130 non-null    int64  \n",
      " 3   COUNTRY        130 non-null    object \n",
      " 4   TEAM           130 non-null    object \n",
      " 5   PLAYING ROLE   130 non-null    object \n",
      " 6   T-RUNS         130 non-null    int64  \n",
      " 7   T-WKTS         130 non-null    int64  \n",
      " 8   ODI-RUNS-S     130 non-null    int64  \n",
      " 9   ODI-SR-B       130 non-null    float64\n",
      " 10  ODI-WKTS       130 non-null    int64  \n",
      " 11  ODI-SR-BL      130 non-null    float64\n",
      " 12  CAPTAINCY EXP  130 non-null    int64  \n",
      " 13  RUNS-S         130 non-null    int64  \n",
      " 14  HS             130 non-null    int64  \n",
      " 15  AVE            130 non-null    float64\n",
      " 16  SR-B           130 non-null    float64\n",
      " 17  SIXERS         130 non-null    int64  \n",
      " 18  RUNS-C         130 non-null    int64  \n",
      " 19  WKTS           130 non-null    int64  \n",
      " 20  AVE-BL         130 non-null    float64\n",
      " 21  ECON           130 non-null    float64\n",
      " 22  SR-BL          130 non-null    float64\n",
      " 23  AUCTION YEAR   130 non-null    int64  \n",
      " 24  BASE PRICE     130 non-null    int64  \n",
      " 25  SOLD PRICE     130 non-null    int64  \n",
      "dtypes: float64(7), int64(15), object(4)\n",
      "memory usage: 26.5+ KB\n"
     ]
    }
   ],
   "source": [
    "import pandas as pd\n",
    "import numpy as np\n",
    "ipl_auction_df=pd.read_csv('IPL2013.csv')\n",
    "ipl_auction_df.info()"
   ]
  },
  {
   "cell_type": "code",
   "execution_count": 2,
   "id": "5ea4e528",
   "metadata": {},
   "outputs": [],
   "source": [
    "X_features=['AGE','COUNTRY','PLAYING ROLE','T-RUNS','T-WKTS','ODI-RUNS-S','ODI-SR-B','ODI-WKTS','ODI-SR-BL','CAPTAINCY EXP','RUNS-S','HS','AVE','SR-B','SIXERS','RUNS-C','WKTS','AVE-BL','ECON','SR-BL']"
   ]
  },
  {
   "cell_type": "code",
   "execution_count": 3,
   "id": "32e02fa6",
   "metadata": {},
   "outputs": [],
   "source": [
    "#Initialize a list with the categorical feature names\n",
    "\n",
    "categorical_features=['AGE','COUNTRY','PLAYING ROLE','CAPTAINCY EXP']\n",
    "\n",
    "#get_dummies()  is invoked to return the dummy features\n",
    "\n",
    "ipl_auction_encoded_df=pd.get_dummies(ipl_auction_df[X_features],columns=categorical_features,drop_first=True)"
   ]
  },
  {
   "cell_type": "code",
   "execution_count": 4,
   "id": "14761fd6",
   "metadata": {},
   "outputs": [
    {
     "data": {
      "text/plain": [
       "Index(['T-RUNS', 'T-WKTS', 'ODI-RUNS-S', 'ODI-SR-B', 'ODI-WKTS', 'ODI-SR-BL',\n",
       "       'RUNS-S', 'HS', 'AVE', 'SR-B', 'SIXERS', 'RUNS-C', 'WKTS', 'AVE-BL',\n",
       "       'ECON', 'SR-BL', 'AGE_2', 'AGE_3', 'COUNTRY_BAN', 'COUNTRY_ENG',\n",
       "       'COUNTRY_IND', 'COUNTRY_NZ', 'COUNTRY_PAK', 'COUNTRY_SA', 'COUNTRY_SL',\n",
       "       'COUNTRY_WI', 'COUNTRY_ZIM', 'PLAYING ROLE_Batsman',\n",
       "       'PLAYING ROLE_Bowler', 'PLAYING ROLE_W. Keeper', 'CAPTAINCY EXP_1'],\n",
       "      dtype='object')"
      ]
     },
     "execution_count": 4,
     "metadata": {},
     "output_type": "execute_result"
    }
   ],
   "source": [
    "ipl_auction_encoded_df.columns"
   ]
  },
  {
   "cell_type": "code",
   "execution_count": 5,
   "id": "8118aa73",
   "metadata": {},
   "outputs": [],
   "source": [
    "X=ipl_auction_encoded_df\n",
    "Y=ipl_auction_df['SOLD PRICE']"
   ]
  },
  {
   "cell_type": "markdown",
   "id": "79c4d4e7",
   "metadata": {},
   "source": [
    "# Standardization of X and Y "
   ]
  },
  {
   "cell_type": "code",
   "execution_count": 6,
   "id": "c2dd1e36",
   "metadata": {},
   "outputs": [],
   "source": [
    "from sklearn.preprocessing import StandardScaler"
   ]
  },
  {
   "cell_type": "code",
   "execution_count": 7,
   "id": "a1d4bfd7",
   "metadata": {},
   "outputs": [],
   "source": [
    "#Initaializing the standardscaler\n",
    "X_scaler=StandardScaler()\n",
    "\n",
    "#Standardize all the feature columns\n",
    "X_scaled=X_scaler.fit_transform(X)\n",
    "\n",
    "#Standardizing Y explicitly by subtracting mean and dividing by standard deviation \n",
    "Y=(Y-Y.mean())/Y.std()"
   ]
  },
  {
   "cell_type": "markdown",
   "id": "6e460797",
   "metadata": {},
   "source": [
    "# Split the Dataset into Train and Test"
   ]
  },
  {
   "cell_type": "code",
   "execution_count": 8,
   "id": "1d23a7d7",
   "metadata": {},
   "outputs": [],
   "source": [
    "from sklearn.model_selection import train_test_split\n",
    "\n",
    "X_train, X_test,y_train,y_test=train_test_split(X_scaled,Y,test_size=0.2,random_state=42)"
   ]
  },
  {
   "cell_type": "markdown",
   "id": "06aaea92",
   "metadata": {},
   "source": [
    "# Build the Model"
   ]
  },
  {
   "cell_type": "code",
   "execution_count": 9,
   "id": "ae8f5f40",
   "metadata": {},
   "outputs": [],
   "source": [
    "from sklearn.linear_model import LinearRegression"
   ]
  },
  {
   "cell_type": "code",
   "execution_count": 10,
   "id": "2f483e7b",
   "metadata": {},
   "outputs": [
    {
     "data": {
      "text/plain": [
       "LinearRegression()"
      ]
     },
     "execution_count": 10,
     "metadata": {},
     "output_type": "execute_result"
    }
   ],
   "source": [
    "linreg=LinearRegression()\n",
    "linreg.fit(X_train,y_train)"
   ]
  },
  {
   "cell_type": "code",
   "execution_count": 11,
   "id": "4e020453",
   "metadata": {},
   "outputs": [
    {
     "data": {
      "text/plain": [
       "array([-0.43539611, -0.04632556,  0.50840867, -0.03323988,  0.2220377 ,\n",
       "       -0.05065703,  0.17282657, -0.49173336,  0.58571405, -0.11654753,\n",
       "        0.24880095,  0.09546057,  0.16428731,  0.26400753, -0.08253341,\n",
       "       -0.28643889, -0.26842214, -0.21910913, -0.02622351,  0.24817898,\n",
       "        0.18760332,  0.10776084,  0.04737488,  0.05191335,  0.01235245,\n",
       "        0.00547115, -0.03124706,  0.08530192,  0.01790803, -0.05077454,\n",
       "        0.18745577])"
      ]
     },
     "execution_count": 11,
     "metadata": {},
     "output_type": "execute_result"
    }
   ],
   "source": [
    "linreg.coef_"
   ]
  },
  {
   "cell_type": "code",
   "execution_count": 12,
   "id": "b62176e0",
   "metadata": {},
   "outputs": [],
   "source": [
    "columns_coef_df=pd.DataFrame({'columns':ipl_auction_encoded_df.columns,'coef':linreg.coef_})"
   ]
  },
  {
   "cell_type": "code",
   "execution_count": 13,
   "id": "c9c464d1",
   "metadata": {},
   "outputs": [],
   "source": [
    "sorted_coef_vals=columns_coef_df.sort_values('coef',ascending=False)"
   ]
  },
  {
   "cell_type": "markdown",
   "id": "d087048c",
   "metadata": {},
   "source": [
    "# Plotting the coefficient values"
   ]
  },
  {
   "cell_type": "code",
   "execution_count": 14,
   "id": "6fd9d767",
   "metadata": {},
   "outputs": [
    {
     "data": {
      "text/plain": [
       "Text(0, 0.5, 'features')"
      ]
     },
     "execution_count": 14,
     "metadata": {},
     "output_type": "execute_result"
    },
    {
     "data": {
      "image/png": "[encoded data removed]",
      "text/plain": [
       "<Figure size 576x432 with 1 Axes>"
      ]
     },
     "metadata": {
      "needs_background": "light"
     },
     "output_type": "display_data"
    }
   ],
   "source": [
    "import matplotlib.pyplot as plt\n",
    "import seaborn as sn\n",
    "%matplotlib inline\n",
    "plt.figure(figsize=(8,6))\n",
    "sn.barplot(x='coef',y='columns',data=sorted_coef_vals)\n",
    "plt.xlabel(\"coefficients from linear regression\")\n",
    "plt.ylabel('features')"
   ]
  },
  {
   "cell_type": "markdown",
   "id": "e3b08db5",
   "metadata": {},
   "source": [
    "# Calculate RMSE"
   ]
  },
  {
   "cell_type": "code",
   "execution_count": 15,
   "id": "20d6314c",
   "metadata": {},
   "outputs": [],
   "source": [
    "from sklearn import metrics\n",
    "\n",
    "#Prints the rmse on train and test set\n",
    "\n",
    "def get_train_test_rmse(model):\n",
    "    y_train_pred=model.predict(X_train)\n",
    "    rmse_train=round(np.sqrt(metrics.mean_squared_error(y_train,y_train_pred)),3)\n",
    "    \n",
    "    y_test_pred=model.predict(X_test)\n",
    "    rmse_test=round(np.sqrt(metrics.mean_squared_error(y_test,y_test_pred)),3)\n",
    "    print(\"train:\",rmse_train,\"test\",rmse_test)"
   ]
  },
  {
   "cell_type": "code",
   "execution_count": 16,
   "id": "605a152b",
   "metadata": {},
   "outputs": [
    {
     "name": "stdout",
     "output_type": "stream",
     "text": [
      "train: 0.679 test 0.749\n"
     ]
    }
   ],
   "source": [
    "get_train_test_rmse(linreg)"
   ]
  },
  {
   "cell_type": "markdown",
   "id": "736e7ecf",
   "metadata": {},
   "source": [
    "# Applying Regularization"
   ]
  },
  {
   "cell_type": "code",
   "execution_count": 17,
   "id": "d278d27a",
   "metadata": {},
   "outputs": [
    {
     "data": {
      "text/plain": [
       "Ridge(alpha=1, max_iter=500)"
      ]
     },
     "execution_count": 17,
     "metadata": {},
     "output_type": "execute_result"
    }
   ],
   "source": [
    "#Ridge Regression\n",
    "\n",
    "from sklearn.linear_model import Ridge\n",
    "\n",
    "#Applying alpha=1 and running algorithm for maximum of 500 iterations\n",
    "\n",
    "ridge=Ridge(alpha=1,max_iter=500)\n",
    "ridge.fit(X_train,y_train)"
   ]
  },
  {
   "cell_type": "code",
   "execution_count": 18,
   "id": "94f097d7",
   "metadata": {},
   "outputs": [
    {
     "name": "stdout",
     "output_type": "stream",
     "text": [
      "train: 0.68 test 0.724\n"
     ]
    }
   ],
   "source": [
    "get_train_test_rmse(ridge)"
   ]
  },
  {
   "cell_type": "code",
   "execution_count": 20,
   "id": "9482b862",
   "metadata": {},
   "outputs": [
    {
     "name": "stdout",
     "output_type": "stream",
     "text": [
      "train: 0.682 test 0.706\n"
     ]
    }
   ],
   "source": [
    "# Difference of rmse reduced because of penalty effect. MNow apply alpha=2.0\n",
    "\n",
    "ridge=Ridge(alpha=2.0,max_iter=1000)\n",
    "ridge.fit(X_train,y_train)\n",
    "get_train_test_rmse(ridge)"
   ]
  },
  {
   "cell_type": "markdown",
   "id": "779be4c7",
   "metadata": {},
   "source": [
    "# LASSO REGRESSION"
   ]
  },
  {
   "cell_type": "code",
   "execution_count": 21,
   "id": "3e1435eb",
   "metadata": {},
   "outputs": [
    {
     "name": "stdout",
     "output_type": "stream",
     "text": [
      "train: 0.688 test 0.698\n"
     ]
    }
   ],
   "source": [
    "#Importing lasso regression\n",
    "\n",
    "from sklearn.linear_model import Lasso\n",
    "\n",
    "#Applying alpha=1 and running algorithm for maximum of 500 iterations\n",
    "\n",
    "lasso=Lasso(alpha=0.01,max_iter=500)\n",
    "lasso.fit(X_train,y_train)\n",
    "get_train_test_rmse(lasso)\n",
    "\n"
   ]
  },
  {
   "cell_type": "code",
   "execution_count": 22,
   "id": "35cdfa7e",
   "metadata": {},
   "outputs": [],
   "source": [
    "#storing the feature names and coefficient values in the DataFrame\n",
    "lasso_coef_df=pd.DataFrame({'columns':ipl_auction_encoded_df.columns,'coef':lasso.coef_})"
   ]
  },
  {
   "cell_type": "code",
   "execution_count": 23,
   "id": "df0ed9c8",
   "metadata": {},
   "outputs": [
    {
     "data": {
      "text/html": [
       "<div>\n",
       "<style scoped>\n",
       "    .dataframe tbody tr th:only-of-type {\n",
       "        vertical-align: middle;\n",
       "    }\n",
       "\n",
       "    .dataframe tbody tr th {\n",
       "        vertical-align: top;\n",
       "    }\n",
       "\n",
       "    .dataframe thead th {\n",
       "        text-align: right;\n",
       "    }\n",
       "</style>\n",
       "<table border=\"1\" class=\"dataframe\">\n",
       "  <thead>\n",
       "    <tr style=\"text-align: right;\">\n",
       "      <th></th>\n",
       "      <th>columns</th>\n",
       "      <th>coef</th>\n",
       "    </tr>\n",
       "  </thead>\n",
       "  <tbody>\n",
       "    <tr>\n",
       "      <th>1</th>\n",
       "      <td>T-WKTS</td>\n",
       "      <td>-0.0</td>\n",
       "    </tr>\n",
       "    <tr>\n",
       "      <th>3</th>\n",
       "      <td>ODI-SR-B</td>\n",
       "      <td>-0.0</td>\n",
       "    </tr>\n",
       "    <tr>\n",
       "      <th>13</th>\n",
       "      <td>AVE-BL</td>\n",
       "      <td>-0.0</td>\n",
       "    </tr>\n",
       "    <tr>\n",
       "      <th>28</th>\n",
       "      <td>PLAYING ROLE_Bowler</td>\n",
       "      <td>0.0</td>\n",
       "    </tr>\n",
       "  </tbody>\n",
       "</table>\n",
       "</div>"
      ],
      "text/plain": [
       "                columns  coef\n",
       "1                T-WKTS  -0.0\n",
       "3              ODI-SR-B  -0.0\n",
       "13               AVE-BL  -0.0\n",
       "28  PLAYING ROLE_Bowler   0.0"
      ]
     },
     "execution_count": 23,
     "metadata": {},
     "output_type": "execute_result"
    }
   ],
   "source": [
    "#filtering out coeffcients with zeros\n",
    "lasso_coef_df[lasso_coef_df.coef==0]"
   ]
  },
  {
   "cell_type": "markdown",
   "id": "cf6f3458",
   "metadata": {},
   "source": [
    "# Elastic Net Regression"
   ]
  },
  {
   "cell_type": "code",
   "execution_count": 26,
   "id": "b53ba098",
   "metadata": {},
   "outputs": [
    {
     "name": "stdout",
     "output_type": "stream",
     "text": [
      "train: 0.789 test 0.665\n"
     ]
    }
   ],
   "source": [
    "from sklearn.linear_model import ElasticNet\n",
    "enet=ElasticNet(alpha=1.01,l1_ratio=0.001,max_iter=500)\n",
    "enet.fit(X_train,y_train)\n",
    "get_train_test_rmse(enet)"
   ]
  },
  {
   "cell_type": "code",
   "execution_count": 27,
   "id": "37539090",
   "metadata": {},
   "outputs": [],
   "source": [
    "#applying both the regularization did not improve the model performance. Hence we can choose to apply only L1(Laaso)regularization"
   ]
  },
  {
   "cell_type": "code",
   "execution_count": null,
   "id": "e39b618d",
   "metadata": {},
   "outputs": [],
   "source": []
  }
 ],
 "metadata": {
  "kernelspec": {
   "display_name": "Python 3 (ipykernel)",
   "language": "python",
   "name": "python3"
  },
  "language_info": {
   "codemirror_mode": {
    "name": "ipython",
    "version": 3
   },
   "file_extension": ".py",
   "mimetype": "text/x-python",
   "name": "python",
   "nbconvert_exporter": "python",
   "pygments_lexer": "ipython3",
   "version": "3.9.7"
  }
 },
 "nbformat": 4,
 "nbformat_minor": 5
}
